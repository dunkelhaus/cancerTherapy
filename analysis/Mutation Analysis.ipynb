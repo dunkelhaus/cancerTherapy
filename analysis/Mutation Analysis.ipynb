{
 "cells": [
  {
   "cell_type": "code",
   "execution_count": 4,
   "metadata": {},
   "outputs": [],
   "source": [
    "import pandas as pd"
   ]
  },
  {
   "cell_type": "code",
   "execution_count": 5,
   "metadata": {},
   "outputs": [],
   "source": [
    "import numpy as np"
   ]
  },
  {
   "cell_type": "code",
   "execution_count": 6,
   "metadata": {},
   "outputs": [],
   "source": [
    "import matplotlib.pyplot as plt"
   ]
  },
  {
   "cell_type": "code",
   "execution_count": 7,
   "metadata": {},
   "outputs": [],
   "source": [
    "df = pd.read_table(\"../initial/fm_mutations_independent.tab\", sep =\"\\t\")"
   ]
  },
  {
   "cell_type": "code",
   "execution_count": 7,
   "metadata": {},
   "outputs": [],
   "source": [
    "cols = list(df)"
   ]
  },
  {
   "cell_type": "code",
   "execution_count": 10,
   "metadata": {},
   "outputs": [
    {
     "name": "stdout",
     "output_type": "stream",
     "text": [
      "Column Names :\n",
      "['5A', '5C', '5G', '5T', 'C>A', 'C>G', 'C>T', 'T>A', 'T>C', 'T>G', '3A', '3C', '3G', '3T', 'sample_name']\n"
     ]
    }
   ],
   "source": [
    "print(\"Column Names :\"); print(cols)"
   ]
  },
  {
   "cell_type": "code",
   "execution_count": 13,
   "metadata": {},
   "outputs": [
    {
     "name": "stdout",
     "output_type": "stream",
     "text": [
      "Frequency Distribution of '5A': \n"
     ]
    },
    {
     "data": {
      "text/plain": [
       "0    2272944\n",
       "1    1247459\n",
       "Name: 5A, dtype: int64"
      ]
     },
     "execution_count": 13,
     "metadata": {},
     "output_type": "execute_result"
    }
   ],
   "source": [
    "print(\"Frequency Distribution of '5A': \"); (df['5A'].value_counts())"
   ]
  },
  {
   "cell_type": "code",
   "execution_count": 15,
   "metadata": {},
   "outputs": [
    {
     "name": "stdout",
     "output_type": "stream",
     "text": [
      "The Relation between having the C>A mutation and having A  as 5' flanking base :\n"
     ]
    },
    {
     "data": {
      "text/html": [
       "<div>\n",
       "<style scoped>\n",
       "    .dataframe tbody tr th:only-of-type {\n",
       "        vertical-align: middle;\n",
       "    }\n",
       "\n",
       "    .dataframe tbody tr th {\n",
       "        vertical-align: top;\n",
       "    }\n",
       "\n",
       "    .dataframe thead th {\n",
       "        text-align: right;\n",
       "    }\n",
       "</style>\n",
       "<table border=\"1\" class=\"dataframe\">\n",
       "  <thead>\n",
       "    <tr style=\"text-align: right;\">\n",
       "      <th>C&gt;A</th>\n",
       "      <th>0</th>\n",
       "      <th>1</th>\n",
       "      <th>All</th>\n",
       "    </tr>\n",
       "    <tr>\n",
       "      <th>5A</th>\n",
       "      <th></th>\n",
       "      <th></th>\n",
       "      <th></th>\n",
       "    </tr>\n",
       "  </thead>\n",
       "  <tbody>\n",
       "    <tr>\n",
       "      <th>0</th>\n",
       "      <td>1974751</td>\n",
       "      <td>298193</td>\n",
       "      <td>2272944</td>\n",
       "    </tr>\n",
       "    <tr>\n",
       "      <th>1</th>\n",
       "      <td>1067587</td>\n",
       "      <td>179872</td>\n",
       "      <td>1247459</td>\n",
       "    </tr>\n",
       "    <tr>\n",
       "      <th>All</th>\n",
       "      <td>3042338</td>\n",
       "      <td>478065</td>\n",
       "      <td>3520403</td>\n",
       "    </tr>\n",
       "  </tbody>\n",
       "</table>\n",
       "</div>"
      ],
      "text/plain": [
       "C>A        0       1      All\n",
       "5A                           \n",
       "0    1974751  298193  2272944\n",
       "1    1067587  179872  1247459\n",
       "All  3042338  478065  3520403"
      ]
     },
     "execution_count": 15,
     "metadata": {},
     "output_type": "execute_result"
    }
   ],
   "source": [
    "print(\"The Relation between having the C>A mutation and having A  as 5' flanking base :\"); pd.crosstab(df['5A'], df['C>A'], margins = True)"
   ]
  },
  {
   "cell_type": "code",
   "execution_count": 16,
   "metadata": {},
   "outputs": [
    {
     "data": {
      "text/plain": [
       "<matplotlib.axes._subplots.AxesSubplot at 0x10b49cbd0>"
      ]
     },
     "execution_count": 16,
     "metadata": {},
     "output_type": "execute_result"
    },
    {
     "data": {
      "image/png": "[encoded data removed]",
      "text/plain": [
       "<matplotlib.figure.Figure at 0x10b4c5790>"
      ]
     },
     "metadata": {},
     "output_type": "display_data"
    }
   ],
   "source": [
    "flankingbase= pd.crosstab(df['5A'], df['C>A'], margins = True); flankingbase.plot(kind = \"bar\", figsize=(8,8), stacked= True)"
   ]
  },
  {
   "cell_type": "code",
   "execution_count": 17,
   "metadata": {},
   "outputs": [
    {
     "name": "stdout",
     "output_type": "stream",
     "text": [
      "Frequency Distribution of '5C': \n"
     ]
    },
    {
     "data": {
      "text/plain": [
       "0    2820357\n",
       "1     700046\n",
       "Name: 5C, dtype: int64"
      ]
     },
     "execution_count": 17,
     "metadata": {},
     "output_type": "execute_result"
    }
   ],
   "source": [
    "print(\"Frequency Distribution of '5C': \"); (df['5C'].value_counts())"
   ]
  },
  {
   "cell_type": "code",
   "execution_count": 18,
   "metadata": {},
   "outputs": [
    {
     "name": "stdout",
     "output_type": "stream",
     "text": [
      "The Relation between having the C>A mutation and having C as 5' flanking base :\n"
     ]
    },
    {
     "data": {
      "text/html": [
       "<div>\n",
       "<style scoped>\n",
       "    .dataframe tbody tr th:only-of-type {\n",
       "        vertical-align: middle;\n",
       "    }\n",
       "\n",
       "    .dataframe tbody tr th {\n",
       "        vertical-align: top;\n",
       "    }\n",
       "\n",
       "    .dataframe thead th {\n",
       "        text-align: right;\n",
       "    }\n",
       "</style>\n",
       "<table border=\"1\" class=\"dataframe\">\n",
       "  <thead>\n",
       "    <tr style=\"text-align: right;\">\n",
       "      <th>C&gt;A</th>\n",
       "      <th>0</th>\n",
       "      <th>1</th>\n",
       "      <th>All</th>\n",
       "    </tr>\n",
       "    <tr>\n",
       "      <th>5C</th>\n",
       "      <th></th>\n",
       "      <th></th>\n",
       "      <th></th>\n",
       "    </tr>\n",
       "  </thead>\n",
       "  <tbody>\n",
       "    <tr>\n",
       "      <th>0</th>\n",
       "      <td>2426580</td>\n",
       "      <td>393777</td>\n",
       "      <td>2820357</td>\n",
       "    </tr>\n",
       "    <tr>\n",
       "      <th>1</th>\n",
       "      <td>615758</td>\n",
       "      <td>84288</td>\n",
       "      <td>700046</td>\n",
       "    </tr>\n",
       "    <tr>\n",
       "      <th>All</th>\n",
       "      <td>3042338</td>\n",
       "      <td>478065</td>\n",
       "      <td>3520403</td>\n",
       "    </tr>\n",
       "  </tbody>\n",
       "</table>\n",
       "</div>"
      ],
      "text/plain": [
       "C>A        0       1      All\n",
       "5C                           \n",
       "0    2426580  393777  2820357\n",
       "1     615758   84288   700046\n",
       "All  3042338  478065  3520403"
      ]
     },
     "execution_count": 18,
     "metadata": {},
     "output_type": "execute_result"
    }
   ],
   "source": [
    "print(\"The Relation between having the C>A mutation and having C as 5' flanking base :\"); pd.crosstab(df['5C'], df['C>A'], margins = True)"
   ]
  },
  {
   "cell_type": "code",
   "execution_count": 19,
   "metadata": {},
   "outputs": [
    {
     "data": {
      "text/plain": [
       "<matplotlib.axes._subplots.AxesSubplot at 0x10d9d4f90>"
      ]
     },
     "execution_count": 19,
     "metadata": {},
     "output_type": "execute_result"
    },
    {
     "data": {
      "image/png": "[encoded data removed]",
      "text/plain": [
       "<matplotlib.figure.Figure at 0x10b49c3d0>"
      ]
     },
     "metadata": {},
     "output_type": "display_data"
    }
   ],
   "source": [
    "flankingbase= pd.crosstab(df['5C'], df['C>A'], margins = True); flankingbase.plot(kind = \"bar\", figsize=(8,8), stacked= True)"
   ]
  },
  {
   "cell_type": "code",
   "execution_count": 2,
   "metadata": {},
   "outputs": [],
   "source": [
    "import seaborn as sns"
   ]
  },
  {
   "cell_type": "code",
   "execution_count": 3,
   "metadata": {},
   "outputs": [],
   "source": [
    "sns.set(style=\"whitegrid\", color_codes=True)"
   ]
  },
  {
   "cell_type": "code",
   "execution_count": 8,
   "metadata": {},
   "outputs": [
    {
     "data": {
      "text/plain": [
       "<matplotlib.axes._subplots.AxesSubplot at 0x115ff7cd0>"
      ]
     },
     "execution_count": 8,
     "metadata": {},
     "output_type": "execute_result"
    },
    {
     "data": {
      "image/png": "[encoded data removed]",
      "text/plain": [
       "<matplotlib.figure.Figure at 0x115ff7610>"
      ]
     },
     "metadata": {},
     "output_type": "display_data"
    }
   ],
   "source": [
    "sns.stripplot(x=df['sample_name'], y= df['C>A'])"
   ]
  },
  {
   "cell_type": "code",
   "execution_count": 9,
   "metadata": {},
   "outputs": [],
   "source": [
    "plt.show()"
   ]
  },
  {
   "cell_type": "code",
   "execution_count": 10,
   "metadata": {},
   "outputs": [
    {
     "data": {
      "text/plain": [
       "melanoma_34    89601\n",
       "melanoma_67    67351\n",
       "melanoma_62    67340\n",
       "melanoma_19    67025\n",
       "melanoma_10    66911\n",
       "melanoma_53    66876\n",
       "melanoma_58    66836\n",
       "melanoma_7     66774\n",
       "melanoma_68    66682\n",
       "melanoma_37    66305\n",
       "melanoma_17    66199\n",
       "melanoma_40    65722\n",
       "lungad_36      65229\n",
       "lungad_30      64719\n",
       "lungad_39      64670\n",
       "lungad_17      64311\n",
       "lungad_28      63862\n",
       "lungad_4       63634\n",
       "lungad_15      62678\n",
       "melanoma_32    45340\n",
       "melanoma_25    44736\n",
       "melanoma_16    44696\n",
       "melanoma_46    44625\n",
       "melanoma_31    44600\n",
       "melanoma_48    44585\n",
       "melanoma_14    44573\n",
       "melanoma_60    44438\n",
       "melanoma_33    43961\n",
       "melanoma_4     43662\n",
       "lungad_12      42750\n",
       "               ...  \n",
       "lungad_41      21633\n",
       "lungad_32      21629\n",
       "melanoma_64    21621\n",
       "lungad_18      21605\n",
       "melanoma_61    21597\n",
       "lungad_14      21593\n",
       "melanoma_29    21588\n",
       "lungad_37      21577\n",
       "lungad_22      21572\n",
       "lungad_33      21565\n",
       "lungad_1       21519\n",
       "lungad_27      21517\n",
       "lungad_13      21498\n",
       "lungad_19      21497\n",
       "melanoma_20    21493\n",
       "lungad_10      21435\n",
       "lungad_34      21433\n",
       "lungad_9       21415\n",
       "lungad_38      21405\n",
       "lungad_2       21393\n",
       "lungad_35      21385\n",
       "lungad_7       21355\n",
       "lungad_31      21342\n",
       "lungad_20      21326\n",
       "lungad_26      21271\n",
       "lungad_24      21253\n",
       "lungad_29      21242\n",
       "lungad_16      21176\n",
       "lungad_6       21147\n",
       "lungad_3       21063\n",
       "Name: sample_name, Length: 110, dtype: int64"
      ]
     },
     "execution_count": 10,
     "metadata": {},
     "output_type": "execute_result"
    }
   ],
   "source": [
    "df['sample_name'].value_counts()"
   ]
  },
  {
   "cell_type": "code",
   "execution_count": null,
   "metadata": {},
   "outputs": [],
   "source": []
  }
 ],
 "metadata": {
  "kernelspec": {
   "display_name": "Python 2",
   "language": "python",
   "name": "python2"
  },
  "language_info": {
   "codemirror_mode": {
    "name": "ipython",
    "version": 2
   },
   "file_extension": ".py",
   "mimetype": "text/x-python",
   "name": "python",
   "nbconvert_exporter": "python",
   "pygments_lexer": "ipython2",
   "version": "2.7.14"
  }
 },
 "nbformat": 4,
 "nbformat_minor": 2
}
